{
 "cells": [
  {
   "cell_type": "markdown",
   "metadata": {},
   "source": [
    "# Sprint16 論文紹介"
   ]
  },
  {
   "cell_type": "markdown",
   "metadata": {},
   "source": [
    "# Mask R-CNN"
   ]
  },
  {
   "cell_type": "markdown",
   "metadata": {},
   "source": [
    "# どんなもの？\n",
    "\n",
    "Mask R-CNNと呼ばれるこの方法は、各関心領域（RoI）のセグメンテーションマスクを予測するためのブランチを、分類およびバウンディングボックス回帰の既存のブランチと並行して追加することで、より高速なR-CNN [ 28 ]を拡張します（図  1）\n",
    "Mask R-CNNと呼ばれるこの方法は、各関心領域（RoI）のセグメンテーションマスクを予測するためのブランチを、分類およびバウンディングボックス回帰の既存のブランチと並行して追加することで、より高速なR-CNN [ 28 ]を拡張します（図  1） 。マスクブランチは、各RoIに適用される小さなFCNであり、ピクセルごとにセグメンテーションマスクを予測します。Mask R-CNNは、より柔軟なアーキテクチャ設計を容易にするFaster R-CNNフレームワークを前提として、実装とトレーニングが簡単です。さらに、マスクブランチはわずかな計算オーバーヘッドを追加するだけで、高速システムと迅速な実験を可能にします。\n",
    "\n",
    "原則として、Mask R-CNNはFaster R-CNNの直感的な拡張ですが、良好な結果を得るにはマスクブランチを適切に構築することが重要です。最も重要なことは、Faster R-CNNは、ネットワークの入力と出力の間のピクセル間のアライメントのために設計されていないことです。\n",
    "\n",
    "インスタンスに参加するためのコア動作、を行うには、特徴抽出のための空間的量子化を粗。ずれを修正するために、RoIAlignと呼ばれる、量子化のないシンプルなレイヤーを提案します、正確な空間位置を忠実に保持します。一見小さな変更であるにもかかわらず、RoIAlignは大きな影響を及ぼします。マスクの精度を10％〜50％向上させ、より厳密なローカリゼーションメトリックの下でより大きなゲインを示します。\n",
    "\n",
    "\n",
    "論文　https://arxiv.org/pdf/1703.06870v3.pdf\n",
    "原則としてMask R-CNNはFast R-CNNの直接的な拡張\n",
    "良好な結果を得るためにはマクスブランチを適切に構築することが重要\n"
   ]
  },
  {
   "cell_type": "markdown",
   "metadata": {},
   "source": [
    "# 先行研究と比べてどこがすごい？\n",
    "\n",
    "\n",
    "\n",
    "\n",
    "\n"
   ]
  },
  {
   "cell_type": "markdown",
   "metadata": {},
   "source": [
    "Roi Pooling から　Roi Alignへ\n",
    "\n",
    "Faster R-CNNでは、ある程度畳み込み処理を行ったfeature mapから、\n",
    "region proposalにあたる部分領域をうまく「固定サイズのfeature map」として抽出するRoi poolingを行うことで、普段の畳み込み処理を共通化し、高速化を実現\n",
    "\n",
    "しかしRoi poolingの対象となっているfeature　mapは入力画像と比較して解像度が低いため、Roi Poolingされた領域が実際に対応している画像領域が、元々のregion proposal(物体があると思われる領域をregion-of-interest(ROI)と呼ばれ、このROIを提案するモデルをregion proposalと呼ぶ)の画像領域とずれている問題点があった\n",
    "Mask R-CNNでは、この問題点の改善のためRoi Alignが提案された\n",
    "\n",
    "Roi　Alignではまずregion proposalの領域をそのまま3 * 3に等分割する\n"
   ]
  },
  {
   "cell_type": "markdown",
   "metadata": {},
   "source": [
    "# 技術や手法のキモはどこ？\n",
    "\n"
   ]
  },
  {
   "cell_type": "markdown",
   "metadata": {},
   "source": [
    "# どうやって有効だと検証した？\n",
    "\n"
   ]
  },
  {
   "cell_type": "markdown",
   "metadata": {},
   "source": [
    "# 議論はある？\n",
    "\n"
   ]
  },
  {
   "cell_type": "markdown",
   "metadata": {},
   "source": [
    "# 次に読むべき論文は"
   ]
  },
  {
   "cell_type": "code",
   "execution_count": null,
   "metadata": {},
   "outputs": [],
   "source": []
  },
  {
   "cell_type": "markdown",
   "metadata": {},
   "source": [
    "# SSD"
   ]
  },
  {
   "cell_type": "markdown",
   "metadata": {},
   "source": [
    "SSDではExtra Fetrure Layersという畳み込み層を挿入している\n",
    "後段に向かうほど特徴マップの分割領域数をスケールダウンさせている\n",
    "それぞれの分割領域に対し、いくつかのアスペクト比のデフォルトボックスを対応させ、損失関数とjaccard係数から正解に近いボックスを複数選択する\n",
    "\n",
    "デフォルトボックスはjaccard係数の閾値が0.5を超えたものは全て正解ボックスと対応づける\n",
    "正解ボックスとの重複が一番大きなものを一つ選択する方法よりこちらの方が精度が高い"
   ]
  }
 ],
 "metadata": {
  "kernelspec": {
   "display_name": "Python 3",
   "language": "python",
   "name": "python3"
  },
  "language_info": {
   "codemirror_mode": {
    "name": "ipython",
    "version": 3
   },
   "file_extension": ".py",
   "mimetype": "text/x-python",
   "name": "python",
   "nbconvert_exporter": "python",
   "pygments_lexer": "ipython3",
   "version": "3.7.2"
  }
 },
 "nbformat": 4,
 "nbformat_minor": 2
}
