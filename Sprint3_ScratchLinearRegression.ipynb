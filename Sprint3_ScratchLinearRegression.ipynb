{
 "cells": [
  {
   "cell_type": "markdown",
   "metadata": {},
   "source": [
    "## 機械学習スクラッチ　線形回帰"
   ]
  },
  {
   "cell_type": "markdown",
   "metadata": {},
   "source": [
    "**Sprintの目的**\n",
    "\n",
    "スクラッチを通して線形回帰を理解する\n",
    "\n",
    "オブジェクト指向を意識した実装に慣れる\n",
    "\n",
    "数式をコードに落とし込めるようにする"
   ]
  },
  {
   "cell_type": "code",
   "execution_count": 5,
   "metadata": {},
   "outputs": [],
   "source": [
    "import numpy as np\n",
    "import matplotlib.pyplot as plt\n",
    "%matplotlib inline\n",
    "import pandas as pd"
   ]
  },
  {
   "cell_type": "code",
   "execution_count": 6,
   "metadata": {},
   "outputs": [],
   "source": [
    "df = pd.read_csv(\"train.csv\")"
   ]
  },
  {
   "cell_type": "code",
   "execution_count": 7,
   "metadata": {},
   "outputs": [],
   "source": [
    "X = df.loc[: , [\"GrLivArea\" , \"YearBuilt\"]].values\n",
    "y = df.loc[: , \"SalePrice\"].values"
   ]
  },
  {
   "cell_type": "code",
   "execution_count": 8,
   "metadata": {},
   "outputs": [],
   "source": [
    "class ScratchLinearRegression():\n",
    "    \"\"\"\n",
    "    線形回帰のスクラッチ実装\n",
    "\n",
    "    Parameters\n",
    "    ----------\n",
    "    num_iter : int\n",
    "      イテレーション数\n",
    "    lr : float\n",
    "      学習率\n",
    "    no_bias : bool\n",
    "      バイアス項を入れない場合はTrue\n",
    "    verbose : bool\n",
    "      学習過程を出力する場合はTrue\n",
    "\n",
    "    Attributes\n",
    "    ----------\n",
    "    self.coef_ : 次の形のndarray, shape (n_features,)\n",
    "      パラメータ\n",
    "    self.loss : 次の形のndarray, shape (self.iter,)\n",
    "      学習用データに対する損失の記録\n",
    "    self.val_loss : 次の形のndarray, shape (self.iter,)\n",
    "      検証用データに対する損失の記録\n",
    "\n",
    "    \"\"\"\n",
    "\n",
    "    def __init__(self, num_iter, lr, bias, verbose):\n",
    "        # ハイパーパラメータを属性として記録\n",
    "        self.iter = num_iter\n",
    "        self.lr = lr\n",
    "        self.bias = bias\n",
    "        self.verbose = verbose\n",
    "        self.coef_ = coef_\n",
    "        # 損失を記録する配列を用意\n",
    "        self.loss = np.zeros(self.iter)\n",
    "        self.val_loss = np.zeros(self.iter)\n",
    "\n",
    "    def fit(self, X, y, X_val=None, y_val=None):\n",
    "        \"\"\"\n",
    "        線形回帰を学習する。検証用データが入力された場合はそれに対する損失と精度もイテレーションごとに計算する。\n",
    "\n",
    "        Parameters\n",
    "        ----------\n",
    "        X : 次の形のndarray, shape (n_samples, n_features)\n",
    "            学習用データの特徴量\n",
    "        y : 次の形のndarray, shape (n_samples, )\n",
    "            学習用データの正解値\n",
    "        X_val : 次の形のndarray, shape (n_samples, n_features)\n",
    "            検証用データの特徴量\n",
    "        y_val : 次の形のndarray, shape (n_samples, )\n",
    "            検証用データの正解値\n",
    "        \"\"\"\n",
    "\n",
    "        if self.verbose == True:\n",
    "            #verboseをTrueにした際は学習過程を出力\n",
    "            print(\"\")\n",
    "        pass\n",
    "\n",
    "\n",
    "    def predict(self, X):\n",
    "        \"\"\"\n",
    "        線形回帰を使い推定する。\n",
    "\n",
    "        Parameters\n",
    "        ----------\n",
    "        X : 次の形のndarray, shape (n_samples, n_features)\n",
    "            サンプル\n",
    "\n",
    "        Returns\n",
    "        -------\n",
    "            次の形のndarray, shape (n_samples, 1)\n",
    "            線形回帰による推定結果\n",
    "        \"\"\"\n",
    "\n",
    "        pass\n",
    "        return"
   ]
  },
  {
   "cell_type": "markdown",
   "metadata": {},
   "source": [
    "## 【問題1】仮定関数\n"
   ]
  },
  {
   "cell_type": "markdown",
   "metadata": {},
   "source": [
    "線形回帰の仮定関数を実装してください。"
   ]
  },
  {
   "cell_type": "code",
   "execution_count": 9,
   "metadata": {},
   "outputs": [],
   "source": [
    "def _linear_hypothesis(X):\n",
    "    \"\"\"\n",
    "    線形の仮定関数を計算する\n",
    "\n",
    "    Parameters\n",
    "    ----------\n",
    "    X : 次の形のndarray, shape (n_samples, n_features)\n",
    "      学習データ\n",
    "\n",
    "    Returns\n",
    "    -------\n",
    "      次の形のndarray, shape (n_samples, 1)\n",
    "      線形の仮定関数による推定結果\n",
    "\n",
    "    \"\"\"\n",
    "    one = np.ones(X.shape[0]).reshape(-1 , 1)\n",
    "    X = np.concatenate([X , one] , axis = 1)\n",
    "    #X = np.insert(X , 0 , 1, axis = 1)\n",
    "    theta = np.random.rand(X.shape[1])\n",
    "    #print(theta.shape)\n",
    "    #print(X.shape)\n",
    "    #print(one.shape)\n",
    "    h = np.dot(theta , X.T)\n",
    "    return h"
   ]
  },
  {
   "cell_type": "code",
   "execution_count": 10,
   "metadata": {},
   "outputs": [
    {
     "data": {
      "text/plain": [
       "(1460,)"
      ]
     },
     "execution_count": 10,
     "metadata": {},
     "output_type": "execute_result"
    }
   ],
   "source": [
    "_linear_hypothesis(X).shape"
   ]
  },
  {
   "cell_type": "markdown",
   "metadata": {},
   "source": [
    "## 問題2】最急降下法"
   ]
  },
  {
   "cell_type": "markdown",
   "metadata": {},
   "source": [
    "最急降下法により学習させる実装を行なってください。以下の式で表されるパラメータの更新式のメソッド_gradient_descentを追加し、fit\n",
    "メソッドから呼び出すようにしてください。"
   ]
  },
  {
   "cell_type": "code",
   "execution_count": 11,
   "metadata": {},
   "outputs": [
    {
     "data": {
      "text/plain": [
       "array([-205839.0321507 , -179186.79506696, -220784.65263155, ...,\n",
       "       -263420.11642555, -139965.0858023 , -145198.91520424])"
      ]
     },
     "execution_count": 11,
     "metadata": {},
     "output_type": "execute_result"
    }
   ],
   "source": [
    "def error(h , y):\n",
    "    return h - y\n",
    "error(_linear_hypothesis(X) , y)"
   ]
  },
  {
   "cell_type": "code",
   "execution_count": 12,
   "metadata": {},
   "outputs": [],
   "source": [
    "def _gradient_descent(X , lr = 0.01 ):\n",
    "    \"\"\"\n",
    "    説明を記述\n",
    "    \"\"\"\n",
    "    theta = np.random.rand(X.shape[1])\n",
    "    theta = theta - lr * np.dot(error( _linear_hypothesis(X) , y) , X ) / X.shape[0]\n",
    "    return theta"
   ]
  },
  {
   "cell_type": "code",
   "execution_count": 13,
   "metadata": {},
   "outputs": [
    {
     "data": {
      "text/plain": [
       "array([2992143.14659329, 3523077.25297253])"
      ]
     },
     "execution_count": 13,
     "metadata": {},
     "output_type": "execute_result"
    }
   ],
   "source": [
    "_gradient_descent(X)"
   ]
  },
  {
   "cell_type": "markdown",
   "metadata": {},
   "source": [
    "## 【問題3】推定"
   ]
  },
  {
   "cell_type": "markdown",
   "metadata": {},
   "source": [
    "推定する仕組みを実装してください。ScratchLinearRegressionクラスの雛形に含まれるpredictメソッドに書き加えてください。\n",
    "\n",
    "仮定関数 \n",
    "hθ(x)の出力が推定結果です。"
   ]
  },
  {
   "cell_type": "code",
   "execution_count": 14,
   "metadata": {},
   "outputs": [],
   "source": [
    "def predict(X):\n",
    "    y_pred = _linear_hypothesis(X)\n",
    "    return y_pred"
   ]
  },
  {
   "cell_type": "markdown",
   "metadata": {},
   "source": [
    "## 【問題4】平均二乗誤差"
   ]
  },
  {
   "cell_type": "markdown",
   "metadata": {},
   "source": [
    "線形回帰の指標値として用いられる平均二乗誤差（mean square error, MSE）の関数を作成してください。\n",
    "\n",
    "平均二乗誤差関数は回帰問題全般で使える関数のため、ScratchLinearRegressionクラスのメソッドではなく、別の関数として作成してください。雛形を用意してあります。\n",
    "\n",
    "平均二乗誤差は以下の数式で表されます。"
   ]
  },
  {
   "cell_type": "code",
   "execution_count": 15,
   "metadata": {},
   "outputs": [],
   "source": [
    "def MSE(y_pred, y):\n",
    "    \"\"\"\n",
    "    平均二乗誤差の計算\n",
    "\n",
    "    Parameters\n",
    "    ----------\n",
    "    y_pred : 次の形のndarray, shape (n_samples,)\n",
    "      推定した値\n",
    "    y : 次の形のndarray, shape (n_samples,)\n",
    "      正解値\n",
    "\n",
    "    Returns\n",
    "    ----------\n",
    "    mse : numpy.float\n",
    "      平均二乗誤差\n",
    "    \"\"\"\n",
    "    mse = np.sum((y_pred - y)**2) / X.shape[0]\n",
    "    \n",
    "    return mse"
   ]
  },
  {
   "cell_type": "code",
   "execution_count": 16,
   "metadata": {},
   "outputs": [
    {
     "data": {
      "text/plain": [
       "38413488324.095695"
      ]
     },
     "execution_count": 16,
     "metadata": {},
     "output_type": "execute_result"
    }
   ],
   "source": [
    "y_pred = _linear_hypothesis(X)\n",
    "MSE(y_pred , y)"
   ]
  },
  {
   "cell_type": "code",
   "execution_count": null,
   "metadata": {},
   "outputs": [],
   "source": []
  },
  {
   "cell_type": "markdown",
   "metadata": {},
   "source": [
    "## 【問題5】目的関数"
   ]
  },
  {
   "cell_type": "markdown",
   "metadata": {},
   "source": [
    "以下の数式で表される線形回帰の 目的関数（損失関数） を実装してください。そして、これをself.loss, self.val_lossに記録するようにしてください。"
   ]
  },
  {
   "cell_type": "code",
   "execution_count": 17,
   "metadata": {},
   "outputs": [],
   "source": [
    "j_theta = np.sum((y_pred - y)**2 )/ (2*X.shape[0])"
   ]
  },
  {
   "cell_type": "code",
   "execution_count": 18,
   "metadata": {},
   "outputs": [],
   "source": [
    "def j_loss(self , X , y):\n",
    "    return np.sum((y_pred - y)**2) / (2*X.shape[0])"
   ]
  },
  {
   "cell_type": "code",
   "execution_count": null,
   "metadata": {},
   "outputs": [],
   "source": []
  },
  {
   "cell_type": "code",
   "execution_count": 19,
   "metadata": {},
   "outputs": [
    {
     "data": {
      "text/plain": [
       "19206744162.047848"
      ]
     },
     "execution_count": 19,
     "metadata": {},
     "output_type": "execute_result"
    }
   ],
   "source": [
    "j_theta"
   ]
  },
  {
   "cell_type": "code",
   "execution_count": 20,
   "metadata": {},
   "outputs": [
    {
     "data": {
      "text/plain": [
       "19206744162.047848"
      ]
     },
     "execution_count": 20,
     "metadata": {},
     "output_type": "execute_result"
    }
   ],
   "source": [
    "MSE(y_pred , y) / 2"
   ]
  },
  {
   "cell_type": "code",
   "execution_count": null,
   "metadata": {},
   "outputs": [],
   "source": []
  },
  {
   "cell_type": "code",
   "execution_count": 95,
   "metadata": {},
   "outputs": [],
   "source": [
    "class ScratchLinearRegression():\n",
    "    \n",
    "    def __init__(self , num_iter = 100, lr = 0.01 , bias = True, verbose = True):\n",
    "        self.h = None\n",
    "        self.theta = None\n",
    "        \n",
    "        self.iter = num_iter\n",
    "        self.lr = lr\n",
    "        self.bias = bias\n",
    "        self.verbose = verbose\n",
    "        \n",
    "        \n",
    "        self.loss = np.zeros(self.iter)\n",
    "        self.val_loss = np.zeros(self.iter)\n",
    "        \n",
    "    def _linear_hypothesis(self , X):\n",
    "        #self.one = np.ones(X.shape[0]).reshape(-1 , 1)\n",
    "        #self.x = np.concatenate([X , self.one] , axis = 1)\n",
    "        self.h = np.dot(self.theta , X.T)\n",
    "        return self.h\n",
    "    \n",
    "    def _get_error(self , h , y):\n",
    "        return self.h - y\n",
    "    \n",
    "    def _gradient_descent(self , X , error):\n",
    "        self.theta = self.theta - self.lr * np.dot(self.error , X ) / X.shape[0]\n",
    "        return self.theta\n",
    "    \n",
    "    def _get_j_loss(self , X , y):\n",
    "        #print(self.theta)\n",
    "        return np.sum((self.y_pred - y)**2) / (2*X.shape[0])\n",
    "    \n",
    "    def _get_MSE(self , y , y_pred):\n",
    "        return  np.sum((self.y_pred - y)**2) / X.shape[0]\n",
    "    \n",
    "    def _get_predict(self, X):\n",
    "        self.y_pred = self._linear_hypothesis(X)\n",
    "        return self.y_pred\n",
    "    \n",
    "    #def _get_one(self.X):\n",
    "        #if self.bias:\n",
    "            #self.one = np.ones(X.shape[0]).reshape(-1 , 1)\n",
    "            #X = np.concatenate([self.one , X] , axis = 1)\n",
    "        #return X\n",
    "    \n",
    "    def fit(self , X , y , X_val=None, y_val=None):\n",
    "        if self.bias:\n",
    "            self.one = np.ones(X.shape[0]).reshape(-1 , 1)\n",
    "            X = np.concatenate([X , self.one] , axis = 1)\n",
    "            \n",
    "            if X_val is not None:\n",
    "                self.one = np.ones(X_val.shape[0]).reshape(-1 , 1)\n",
    "                X_val = np.concatenate([X_val , self.one] , axis = 1)\n",
    "\n",
    "        self.theta = np.random.rand(X.shape[1])\n",
    "\n",
    "        for i in range(self.iter):\n",
    "            self.h = self._linear_hypothesis(X)\n",
    "            self.error = self._get_error(self.h ,y)\n",
    "            self._gradient_descent( X , error)\n",
    "            self.y_pred = self._get_predict(X)\n",
    "            self.mse = self._get_MSE(y , self.y_pred)\n",
    "            self.loss[i] = self.mse\n",
    "            \n",
    "            if X_val is not None:\n",
    "                #self.h = self._linear_hypothesis(X)\n",
    "                self.y_pred_val = self._get_predict(X_val)\n",
    "                self.mse_val = self._get_MSE(y_val , self.y_pred_val )\n",
    "                self.val_loss[i] = self.mse_val\n",
    "\n",
    "            \n",
    "        if self.verbose:\n",
    "        #verboseをTrueにした際は学習過程を出力\n",
    "            print(self.loss)\n",
    "            \n",
    "    def predict(self , X):\n",
    "        if self.bias:\n",
    "            self.one = np.ones(X.shape[0]).reshape(-1 , 1)\n",
    "            X = np.concatenate([X , self.one] , axis = 1)\n",
    "        return self._get_predict(X)"
   ]
  },
  {
   "cell_type": "markdown",
   "metadata": {},
   "source": [
    "## 【問題6】学習と推定\n"
   ]
  },
  {
   "cell_type": "code",
   "execution_count": 96,
   "metadata": {},
   "outputs": [],
   "source": [
    "from sklearn.model_selection import train_test_split\n",
    "X_train , X_test , y_train ,y_test =  train_test_split(\n",
    "               X , y , test_size = 0.25)"
   ]
  },
  {
   "cell_type": "code",
   "execution_count": 97,
   "metadata": {},
   "outputs": [],
   "source": [
    "slr = ScratchLinearRegression(num_iter=10000, lr=0.00000001)"
   ]
  },
  {
   "cell_type": "code",
   "execution_count": 98,
   "metadata": {},
   "outputs": [
    {
     "name": "stdout",
     "output_type": "stream",
     "text": [
      "[2.53650656e+10 2.26635846e+10 2.02878647e+10 ... 2.18069737e+09\n",
      " 2.18069737e+09 2.18069737e+09]\n"
     ]
    }
   ],
   "source": [
    "slr.fit(X_train , y_train , X_test , y_test)"
   ]
  },
  {
   "cell_type": "code",
   "execution_count": 99,
   "metadata": {},
   "outputs": [],
   "source": [
    "#slr.loss"
   ]
  },
  {
   "cell_type": "code",
   "execution_count": 100,
   "metadata": {},
   "outputs": [],
   "source": [
    "#slr.val_loss"
   ]
  },
  {
   "cell_type": "markdown",
   "metadata": {},
   "source": [
    "## 【問題7】学習曲線のプロット\n"
   ]
  },
  {
   "cell_type": "code",
   "execution_count": 101,
   "metadata": {},
   "outputs": [
    {
     "data": {
      "image/png": "[encoded data removed]",
      "text/plain": [
       "<Figure size 432x288 with 1 Axes>"
      ]
     },
     "metadata": {
      "needs_background": "light"
     },
     "output_type": "display_data"
    }
   ],
   "source": [
    "plt.plot(np.arange(1 , len(slr.loss) + 1) , slr.loss , label = \"train_loss\")\n",
    "plt.plot(np.arange(1 , len(slr.val_loss) + 1) , slr.val_loss , label = \"test_loss\")\n",
    "plt.title(\"model loss\")\n",
    "plt.xlabel(\"iter\")\n",
    "plt.ylabel(\"loss\")\n",
    "plt.legend(\"train_loss\")\n",
    "plt.show()"
   ]
  },
  {
   "cell_type": "code",
   "execution_count": 102,
   "metadata": {},
   "outputs": [
    {
     "data": {
      "image/png": "[encoded data removed]",
      "text/plain": [
       "<Figure size 432x288 with 1 Axes>"
      ]
     },
     "metadata": {
      "needs_background": "light"
     },
     "output_type": "display_data"
    }
   ],
   "source": [
    "plt.plot(np.arange(1 , len(slr.val_loss) + 1) , slr.val_loss , label = \"test_loss\")\n",
    "plt.show()"
   ]
  },
  {
   "cell_type": "code",
   "execution_count": 103,
   "metadata": {},
   "outputs": [],
   "source": [
    "#np.arange(1 , len(slr.loss) + 1)"
   ]
  },
  {
   "cell_type": "code",
   "execution_count": 104,
   "metadata": {},
   "outputs": [
    {
     "data": {
      "text/plain": [
       "array([148039.36483421, 227046.30964103, 103989.53875818, 140493.43299194,\n",
       "       146667.22979132, 204223.88838101, 162873.43684407, 245331.51342551,\n",
       "       281023.76423988, 156345.37921544, 132801.14381183, 162312.9324931 ,\n",
       "       197190.21994869, 128964.13541885, 212822.6301654 , 297501.09363478,\n",
       "       184164.06051081, 177956.98795264, 129323.38888468, 211054.64595848,\n",
       "       154592.37291821, 198314.54859004, 131266.00082421, 254161.43645951,\n",
       "       271467.03442572, 185058.84241732, 135360.80089187, 143295.91656443,\n",
       "       191653.43883609, 143270.96610906, 198299.57068034,  83322.62556568,\n",
       "       282706.92453505, 163019.80690939, 268594.67939624, 253447.93489188,\n",
       "       122687.22958609, 190256.34061036, 109384.9551695 , 114580.79339284,\n",
       "       171859.70248906, 181812.29419472, 138918.3870942 , 188631.40652936,\n",
       "       109629.45435911, 136576.60605124, 130753.73741427, 182416.03412269,\n",
       "       265328.16062738, 194234.71370462, 120688.06412955,  80190.8316193 ,\n",
       "       173644.31184791, 191314.14318905, 124985.76232458, 218006.82314591,\n",
       "       113265.19913947, 273062.05086973, 255380.56155829, 120606.5601572 ,\n",
       "       208957.35137766, 203739.89536583, 134452.68831789, 157775.74047249,\n",
       "       187162.78960441, 162540.80653077, 184327.0430006 , 247016.33369037,\n",
       "       177719.15409677, 147028.14322685, 216218.89384766, 170883.40388273,\n",
       "       129211.96727532, 185754.05886332, 117030.68883323, 163758.25893238,\n",
       "       202045.1025553 , 140912.55991417, 123104.68381114, 203884.59273398,\n",
       "       128864.34632486, 203332.4264139 , 326369.22675048, 112754.59569923,\n",
       "       286306.08634468, 172905.84709745, 189354.89337012, 179656.77339974,\n",
       "       165220.2105236 , 152899.22734992, 304195.4536926 , 114787.02418709,\n",
       "       143912.9744324 , 251941.0750265 , 140540.00123581, 187287.52915376,\n",
       "       192025.98478698, 154297.98554534, 190826.817507  , 193792.3090242 ,\n",
       "       246936.50241518, 167054.72079318, 141344.99204892, 246969.76544651,\n",
       "       154414.39979126, 120049.38847309, 187864.65865667, 171791.50372923,\n",
       "       227551.93317218, 181479.63842648, 211533.6463371 , 276840.82032107,\n",
       "       194939.91542375, 128864.34632486, 189620.99762076, 201050.50609987,\n",
       "       134705.50008347, 130550.82655942, 201070.47664613, 268993.84849967,\n",
       "       305110.21887284, 234685.37797102, 218673.76919714, 194996.45621328,\n",
       "       288351.82004507, 129035.65411807, 109391.60777577, 272769.31073909,\n",
       "        93198.70593554, 294073.22689089, 168208.979799  , 149448.0955753 ,\n",
       "       156836.03756435, 306364.26697265, 164591.53286773, 107828.19439339,\n",
       "       239952.73489358, 230444.22056552, 314437.44013456, 173875.49309752,\n",
       "       186068.40405499, 175586.92378745, 209120.35932238, 177526.21578759,\n",
       "       189201.87069853, 107828.19439339, 321823.72215391, 144722.94515462,\n",
       "       213933.64086676, 267842.92216072, 168135.80113007, 151635.19397698,\n",
       "       178831.83749529, 228754.40766409, 196077.53655017, 245580.99252421,\n",
       "       166010.22342702, 227502.01953398, 194901.67248332, 172663.02060501,\n",
       "       114673.92988056, 183826.41210601, 128864.34632486, 104169.15912736,\n",
       "       128950.83020632, 130051.868362  , 162279.66946177, 146868.467949  ,\n",
       "       173617.70142285, 642071.01554325, 266440.8440259 , 148846.01561703,\n",
       "       232401.81041475, 148839.36301076, 292370.10877693, 238472.48545327,\n",
       "       127711.74728874, 234094.94325558, 265487.82317776, 158662.2225305 ,\n",
       "       230294.5305608 , 327826.18570513, 223467.10565019, 147059.73356101,\n",
       "       141181.99683167, 247127.76802719, 170244.74095373, 244162.28923746,\n",
       "       234272.90365506, 239942.74962045, 128129.21424127, 211247.58426766,\n",
       "       189418.08676591, 245561.03470542, 241319.87729991, 220193.92154759,\n",
       "       186085.04193438, 204677.93830426, 100164.1883355 , 183068.00226422,\n",
       "       173927.05397795, 176376.9621458 , 243596.80497738, 191992.73448312,\n",
       "       149092.16204887, 286056.60724597, 198845.10984909, 124967.46447549,\n",
       "       217925.31917355, 134016.93624374, 123222.77075423, 138158.29182778,\n",
       "       175600.22899998, 154427.7050038 , 167606.89984073, 225935.28621221,\n",
       "       178136.60832182, 278106.51366371, 199949.48067164, 414641.87212039,\n",
       "       141028.97416009, 173143.6936808 , 208571.48748677, 158206.49991008,\n",
       "       265389.69405347, 198030.13376284, 133541.25580452, 158199.84730381,\n",
       "       227515.32474651, 219709.94125987, 368787.46613924, 229953.57494407,\n",
       "       158439.34112939, 226913.25751571, 135046.4557002 , 123585.34415946,\n",
       "       179754.90252403, 148370.33517781, 120661.45370449, 146085.10765184,\n",
       "       188604.78337683, 139482.19865711, 115878.08979711, 104939.22693945,\n",
       "       147053.08095475, 123591.99676573, 179270.90950884, 213428.03006308,\n",
       "       143844.77567257, 232870.82552024, 167558.67162716, 280682.82135062,\n",
       "       257163.52367491, 172278.82941129, 268002.59743857, 246096.58860103,\n",
       "       210341.13166339, 202101.64334483, 123585.34415946, 191881.28741883,\n",
       "       107821.54178713, 167322.49774099, 172515.00329746, 244682.86522337,\n",
       "       164004.40536422, 138708.81090563, 157730.81947086, 236200.55041237,\n",
       "       199512.04317286, 132348.75385827, 141752.47372832, 112621.54357391,\n",
       "       151909.63625852, 127374.12433888, 137852.27193955, 246444.19682403,\n",
       "       267724.8479451 ,  50165.09410344, 261106.97376814, 112714.68006163,\n",
       "       138757.05184665, 218848.39692976, 125135.4523293 , 167914.59242613,\n",
       "       130321.30527951, 203811.41406505, 190766.94405061, 101408.26388964,\n",
       "       152554.95179379, 265120.25713596, 183242.62999684, 333291.46084598,\n",
       "       164819.38145048, 258237.93867806, 157541.21382855, 274480.74142901,\n",
       "       257948.54394176, 128159.14460573, 167112.93427988, 121301.77660319,\n",
       "       148210.67262743, 187196.06536321, 132641.46853397, 250266.2273073 ,\n",
       "       180579.85115594, 123098.03120488, 160418.54876712, 109398.26038203,\n",
       "       177093.78365283, 163685.08026346, 147957.86086185, 132914.23811835,\n",
       "       178065.0896226 , 200538.24268992, 215616.81388939, 201531.16644818,\n",
       "       249248.35309367, 181662.59146253, 188446.78079614, 294439.13296299,\n",
       "       214559.02403816, 226209.71576628, 163726.66859822, 170900.02903466,\n",
       "       105162.0956131 , 231526.96087211, 175586.92378745, 152638.10300838,\n",
       "       228990.58155026, 100734.66523215, 189597.71986256, 228170.62555491,\n",
       "       138243.11573954, 182233.08108664, 163568.65329007, 146793.62931037,\n",
       "       197281.70919418, 207324.09199323, 184217.26863347, 182991.49092843,\n",
       "       196084.18915644, 174088.3892255 , 216022.63559908, 197860.48593932,\n",
       "       237595.97594092, 534418.7935669 , 123096.37123518, 138470.98977722,\n",
       "       211252.56417676, 191565.28225746, 173105.45074037, 113705.9438502 ,\n",
       "       201386.46908003, 248218.83363721, 262452.4856585 , 170386.10565501,\n",
       "       160905.87444917,  83309.32035315, 148929.17955909, 210158.17862734,\n",
       "       199197.69798119, 202763.59675949, 162514.19610571, 304421.65503311,\n",
       "       205704.13782133])"
      ]
     },
     "execution_count": 104,
     "metadata": {},
     "output_type": "execute_result"
    }
   ],
   "source": [
    "slr.predict(X_test)"
   ]
  },
  {
   "cell_type": "code",
   "execution_count": 85,
   "metadata": {},
   "outputs": [
    {
     "data": {
      "text/plain": [
       "(365, 2)"
      ]
     },
     "execution_count": 85,
     "metadata": {},
     "output_type": "execute_result"
    }
   ],
   "source": [
    "X_test.shape"
   ]
  },
  {
   "cell_type": "code",
   "execution_count": null,
   "metadata": {},
   "outputs": [],
   "source": []
  },
  {
   "cell_type": "code",
   "execution_count": null,
   "metadata": {},
   "outputs": [],
   "source": []
  },
  {
   "cell_type": "code",
   "execution_count": null,
   "metadata": {},
   "outputs": [],
   "source": []
  }
 ],
 "metadata": {
  "kernelspec": {
   "display_name": "Python 3",
   "language": "python",
   "name": "python3"
  },
  "language_info": {
   "codemirror_mode": {
    "name": "ipython",
    "version": 3
   },
   "file_extension": ".py",
   "mimetype": "text/x-python",
   "name": "python",
   "nbconvert_exporter": "python",
   "pygments_lexer": "ipython3",
   "version": "3.7.2"
  }
 },
 "nbformat": 4,
 "nbformat_minor": 2
}
