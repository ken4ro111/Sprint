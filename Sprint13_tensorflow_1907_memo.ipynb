{
 "cells": [
  {
   "cell_type": "markdown",
   "metadata": {},
   "source": [
    "# Sprint13 tensorflow Memo"
   ]
  },
  {
   "cell_type": "code",
   "execution_count": 9,
   "metadata": {
    "ExecuteTime": {
     "end_time": "2019-12-05T01:04:26.976853Z",
     "start_time": "2019-12-05T01:04:24.176673Z"
    },
    "scrolled": true
   },
   "outputs": [
    {
     "name": "stdout",
     "output_type": "stream",
     "text": [
      "Requirement already satisfied: tensorflow==1.14.0 in /Users/yoshiko/.pyenv/versions/anaconda3-5.3.1/lib/python3.6/site-packages (1.14.0)\n",
      "Requirement already satisfied: absl-py>=0.7.0 in /Users/yoshiko/.pyenv/versions/anaconda3-5.3.1/lib/python3.6/site-packages (from tensorflow==1.14.0) (0.7.0)\n",
      "Requirement already satisfied: astor>=0.6.0 in /Users/yoshiko/.pyenv/versions/anaconda3-5.3.1/lib/python3.6/site-packages (from tensorflow==1.14.0) (0.7.1)\n",
      "Requirement already satisfied: tensorflow-estimator<1.15.0rc0,>=1.14.0rc0 in /Users/yoshiko/.pyenv/versions/anaconda3-5.3.1/lib/python3.6/site-packages (from tensorflow==1.14.0) (1.14.0)\n",
      "Requirement already satisfied: protobuf>=3.6.1 in /Users/yoshiko/.pyenv/versions/anaconda3-5.3.1/lib/python3.6/site-packages (from tensorflow==1.14.0) (3.6.1)\n",
      "Requirement already satisfied: termcolor>=1.1.0 in /Users/yoshiko/.pyenv/versions/anaconda3-5.3.1/lib/python3.6/site-packages (from tensorflow==1.14.0) (1.1.0)\n",
      "Requirement already satisfied: grpcio>=1.8.6 in /Users/yoshiko/.pyenv/versions/anaconda3-5.3.1/lib/python3.6/site-packages (from tensorflow==1.14.0) (1.18.0)\n",
      "Requirement already satisfied: wheel>=0.26 in /Users/yoshiko/.pyenv/versions/anaconda3-5.3.1/lib/python3.6/site-packages (from tensorflow==1.14.0) (0.33.1)\n",
      "Requirement already satisfied: wrapt>=1.11.1 in /Users/yoshiko/.pyenv/versions/anaconda3-5.3.1/lib/python3.6/site-packages (from tensorflow==1.14.0) (1.11.1)\n",
      "Requirement already satisfied: keras-applications>=1.0.6 in /Users/yoshiko/.pyenv/versions/anaconda3-5.3.1/lib/python3.6/site-packages (from tensorflow==1.14.0) (1.0.7)\n",
      "Requirement already satisfied: google-pasta>=0.1.6 in /Users/yoshiko/.pyenv/versions/anaconda3-5.3.1/lib/python3.6/site-packages (from tensorflow==1.14.0) (0.1.8)\n",
      "Requirement already satisfied: numpy<2.0,>=1.14.5 in /Users/yoshiko/.pyenv/versions/anaconda3-5.3.1/lib/python3.6/site-packages (from tensorflow==1.14.0) (1.15.1)\n",
      "Requirement already satisfied: six>=1.10.0 in /Users/yoshiko/.pyenv/versions/anaconda3-5.3.1/lib/python3.6/site-packages (from tensorflow==1.14.0) (1.12.0)\n",
      "Requirement already satisfied: keras-preprocessing>=1.0.5 in /Users/yoshiko/.pyenv/versions/anaconda3-5.3.1/lib/python3.6/site-packages (from tensorflow==1.14.0) (1.0.9)\n",
      "Requirement already satisfied: tensorboard<1.15.0,>=1.14.0 in /Users/yoshiko/.pyenv/versions/anaconda3-5.3.1/lib/python3.6/site-packages (from tensorflow==1.14.0) (1.14.0)\n",
      "Requirement already satisfied: gast>=0.2.0 in /Users/yoshiko/.pyenv/versions/anaconda3-5.3.1/lib/python3.6/site-packages (from tensorflow==1.14.0) (0.2.2)\n",
      "Requirement already satisfied: setuptools in /Users/yoshiko/.pyenv/versions/anaconda3-5.3.1/lib/python3.6/site-packages (from protobuf>=3.6.1->tensorflow==1.14.0) (39.1.0)\n",
      "Requirement already satisfied: h5py in /Users/yoshiko/.pyenv/versions/anaconda3-5.3.1/lib/python3.6/site-packages (from keras-applications>=1.0.6->tensorflow==1.14.0) (2.9.0)\n",
      "Requirement already satisfied: werkzeug>=0.11.15 in /Users/yoshiko/.pyenv/versions/anaconda3-5.3.1/lib/python3.6/site-packages (from tensorboard<1.15.0,>=1.14.0->tensorflow==1.14.0) (0.14.1)\n",
      "Requirement already satisfied: markdown>=2.6.8 in /Users/yoshiko/.pyenv/versions/anaconda3-5.3.1/lib/python3.6/site-packages (from tensorboard<1.15.0,>=1.14.0->tensorflow==1.14.0) (3.0.1)\n"
     ]
    }
   ],
   "source": [
    "!/Users/yoshiko/.pyenv/versions/anaconda3-5.3.1/bin/python -m pip install tensorflow==1.14.0"
   ]
  },
  {
   "cell_type": "code",
   "execution_count": 8,
   "metadata": {
    "ExecuteTime": {
     "end_time": "2019-12-05T01:02:57.452469Z",
     "start_time": "2019-12-05T01:02:57.442764Z"
    }
   },
   "outputs": [
    {
     "data": {
      "text/plain": [
       "'/Users/yoshiko/.pyenv/versions/anaconda3-5.3.1/bin/python'"
      ]
     },
     "execution_count": 8,
     "metadata": {},
     "output_type": "execute_result"
    }
   ],
   "source": [
    "import sys\n",
    "sys.executable"
   ]
  },
  {
   "cell_type": "code",
   "execution_count": 8,
   "metadata": {
    "ExecuteTime": {
     "end_time": "2019-12-05T01:52:47.265430Z",
     "start_time": "2019-12-05T01:52:47.256748Z"
    }
   },
   "outputs": [],
   "source": [
    "import sys\n",
    "import numpy as np\n",
    "import tensorflow as tf\n",
    "from keras import backend as K "
   ]
  },
  {
   "cell_type": "code",
   "execution_count": 9,
   "metadata": {
    "ExecuteTime": {
     "end_time": "2019-12-05T01:52:53.563662Z",
     "start_time": "2019-12-05T01:52:53.548676Z"
    }
   },
   "outputs": [
    {
     "name": "stdout",
     "output_type": "stream",
     "text": [
      "1.14.0\n"
     ]
    }
   ],
   "source": [
    "\"\"\"\n",
    "バージョンチェック\n",
    "\"\"\"\n",
    "\n",
    "print(tf.VERSION)  # tf.__version__でもよい"
   ]
  },
  {
   "cell_type": "code",
   "execution_count": null,
   "metadata": {},
   "outputs": [],
   "source": []
  },
  {
   "cell_type": "markdown",
   "metadata": {},
   "source": [
    "## tf.Session()\n",
    "\n",
    "tf.Session()は、`with`構文の中で、セッションオブジェクトとして引数に取ったOperation(値を出力するノード)を実行する。\n",
    "\n",
    "常にセッションオブジェクトを参照する必要があるため、non-interactiveである。\n",
    "\n",
    "データフローグラフとは独立して定義される。\n",
    "\n",
    "https://www.tensorflow.org/guide/graphs#using_tfsessionrun_to_execute_operations"
   ]
  },
  {
   "cell_type": "code",
   "execution_count": 10,
   "metadata": {
    "ExecuteTime": {
     "end_time": "2019-12-05T01:54:13.076881Z",
     "start_time": "2019-12-05T01:54:13.057236Z"
    }
   },
   "outputs": [
    {
     "name": "stdout",
     "output_type": "stream",
     "text": [
      "[1. 4. 9.]\n",
      "[ 0.  0. 25.]\n"
     ]
    }
   ],
   "source": [
    "\"\"\"\n",
    "\n",
    "tf.Session.runとfeed_dictについて\n",
    "\n",
    "tf.Session.runは、オプションでfeed_dictのディクショナリを受け取る。\n",
    "これはつまり、tf.Tensorオブジェクト（通常はtf.placeholderテンソル）から\n",
    "値（通常はPythonスカラー、リスト、またはNumPy配列）への\n",
    "マッピングであり、実行中のテンソルの代わりとなる。\n",
    "\n",
    "\n",
    "\"\"\"\n",
    "\n",
    "\n",
    "\n",
    "# ベースライン\n",
    "\n",
    "\"\"\"\n",
    "\n",
    "# placeholder　：three floating-point valuesのベクトルが入ってくると予想される\n",
    "# y　　　　　　　：placeholderに依存した計算\n",
    "\n",
    "\"\"\"\n",
    "    \n",
    "    \n",
    "x = tf.placeholder(tf.float32, shape=(3))\n",
    "y = tf.square(x)\n",
    "\n",
    "\n",
    "with tf.Session() as sess:\n",
    "    \n",
    "    # a valueをFeedするたびに、`y`を評価する際に返ってくる結果が変わる。 \n",
    "    \n",
    "    print(sess.run(y, feed_dict={x: [1.0, 2.0, 3.0]}))  # => \"[1.0, 4.0, 9.0]\"\n",
    "    print(sess.run(y, feed_dict={x: [0.0, 0.0, 5.0]}))  # => \"[0.0, 0.0, 25.0]\"\n",
    "\n",
    "    \n",
    "    \"\"\"\n",
    "    Raises `tf.errors.InvalidArgumentError`\n",
    "    \"\"\"\n",
    "    # sess.run(y)\n",
    "\n",
    "    \"\"\"\n",
    "    Raises `ValueError`\n",
    "    \"\"\"\n",
    "    # sess.run(y, {x: 37.0})\n",
    "    \n",
    "    "
   ]
  },
  {
   "cell_type": "markdown",
   "metadata": {},
   "source": [
    "### tf.initialize_all_variables() と tf.global_variables_initializer()\n",
    "\n",
    "\n",
    "tf.initialize_all_variables()は、2017-03-02以降に廃止され、 tf.global_variables_initializer()に移行した。\n",
    "\n",
    "`Warning: THIS FUNCTION IS DEPRECATED. It will be removed after 2017-03-02. Instructions for updating: Use tf.global_variables_initializer instead.`\n",
    "\n",
    "https://www.tensorflow.org/api_docs/python/tf/initialize_all_variables\n",
    "\n"
   ]
  },
  {
   "cell_type": "markdown",
   "metadata": {},
   "source": [
    "`参考までに`\n",
    "\n",
    "さらに、version 2.0では、tf.Sessionを用いないため、tf.global_variables_initializer()も使う必要がない。\n",
    "\n",
    "\"How do I initialize tf.global_variables_initializer() with version 2.0?\"\n",
    "\n",
    "https://www.reddit.com/r/tensorflow/comments/bk94lj/how_do_i_initialize_tfglobal_variables/"
   ]
  },
  {
   "cell_type": "code",
   "execution_count": 4,
   "metadata": {
    "ExecuteTime": {
     "end_time": "2019-12-05T01:06:14.436096Z",
     "start_time": "2019-12-05T01:06:14.402593Z"
    }
   },
   "outputs": [
    {
     "name": "stdout",
     "output_type": "stream",
     "text": [
      "Stateの初期値：0\n",
      "1\n"
     ]
    }
   ],
   "source": [
    "# tf.global_variables_initializer()によって変数が初期値(今回は0)で初期化される\n",
    "\n",
    "\n",
    "State = tf.Variable(0, name=\"counter\")\n",
    "one = tf.constant(1)\n",
    "new_value = tf.add(State, one)\n",
    "update = tf.assign(State, new_value) \n",
    "\n",
    "init_op = tf.global_variables_initializer() \n",
    "\n",
    "\n",
    "# Sessionインスタンス\n",
    "sess = tf.Session()\n",
    "\n",
    "\n",
    "# 初期化前にはStateオペレーションを実行できない\n",
    "\"\"\"\n",
    "Raises `FailedPreconditionError`：Attempting to use uninitialized value\n",
    "\"\"\"\n",
    "# print(sess.run(State))\n",
    "\n",
    "\n",
    "# initialize\n",
    "sess.run(init_op)\n",
    "\n",
    "\n",
    "# 初期値(今回は0)がStateオペレーションから返される     # 0\n",
    "print(\"Stateの初期値：{}\".format(sess.run(State)))\n",
    "\n",
    "\n",
    "# Stateに値を代入するオペレーションupdateを実行\n",
    "sess.run(update)\n",
    "\n",
    "# Stateオペレーションの再実行\n",
    "print(sess.run(State))                          # 1"
   ]
  },
  {
   "cell_type": "markdown",
   "metadata": {},
   "source": [
    "### initialized_value()\n",
    "\n",
    "tf.global_variables_initializer()は、変数が初期化される順序は指定されていない。\n",
    "ゆえに、変数の初期値が別の変数の値に依存している場合、エラーが発生する可能性がある。\n",
    "すべての変数が初期化されていないコンテキストで変数の値を使用するときはいつでも（たとえば、別の変数を初期化するときに変数の値を使用する場合"
   ]
  },
  {
   "cell_type": "markdown",
   "metadata": {},
   "source": [
    "デフォルトでtf.global_variables_initializerは、変数が初期化される順序は指定されていないことに注意してください。したがって、変数の初期値が別の変数の値に依存している場合、エラーが発生する可能性があります。すべての変数が初期化されていないコンテキストで変数の値を使用するときはいつでも（たとえば、別の変数を初期化するときに変数の値を使用する場合）、variable.initialized_value()代わりに使用するのが最善です "
   ]
  },
  {
   "cell_type": "code",
   "execution_count": null,
   "metadata": {},
   "outputs": [],
   "source": []
  },
  {
   "cell_type": "code",
   "execution_count": null,
   "metadata": {},
   "outputs": [],
   "source": []
  },
  {
   "cell_type": "code",
   "execution_count": null,
   "metadata": {},
   "outputs": [],
   "source": []
  },
  {
   "cell_type": "markdown",
   "metadata": {},
   "source": [
    "## tf.InteractiveSession()\n",
    "\n",
    "\n",
    "tf.InteractiveSession()はオペレーションを明示的にセッションオブジェクトに渡す必要がなく、interactiveに操作可能である。\n",
    "\n",
    "データフローグラフを構築する前にインスタンスを作成する必要がある。\n",
    "\n",
    "`sess.close()`を忘れずに。\n",
    "\n",
    "https://stackoverflow.com/questions/41791469/whats-the-difference-between-tf-session-and-tf-interactivesession"
   ]
  },
  {
   "cell_type": "markdown",
   "metadata": {},
   "source": [
    "## eval() を使ってみよう\n",
    "\n",
    "\n",
    "tf.InteractiveSession()と組み合わせてみよう"
   ]
  },
  {
   "cell_type": "code",
   "execution_count": 11,
   "metadata": {
    "ExecuteTime": {
     "end_time": "2019-12-05T01:56:24.533782Z",
     "start_time": "2019-12-05T01:56:24.514491Z"
    },
    "scrolled": true
   },
   "outputs": [
    {
     "name": "stdout",
     "output_type": "stream",
     "text": [
      "Tensor(\"Sum_15:0\", shape=(), dtype=int32)\n",
      "Tensor(\"Sum_16:0\", shape=(3,), dtype=int32)\n",
      "Tensor(\"Sum_17:0\", shape=(2,), dtype=int32)\n",
      "Tensor(\"Sum_18:0\", shape=(2, 1), dtype=int32)\n",
      "Tensor(\"Sum_19:0\", shape=(), dtype=int32)\n"
     ]
    }
   ],
   "source": [
    "\"\"\"\n",
    "tf.reduce_sum()：配列の要素を全て足す\n",
    "\"\"\"\n",
    "\n",
    "\n",
    "# もしも eval()がなかったら\n",
    "\n",
    "sess = tf.InteractiveSession()\n",
    "\n",
    "x = tf.constant([[1, 1, 1], [1, 1, 1]])\n",
    "print(tf.reduce_sum(x))\n",
    "print(tf.reduce_sum(x, 0))\n",
    "print(tf.reduce_sum(x, 1))\n",
    "print(tf.reduce_sum(x, 1, keepdims=True))\n",
    "print(tf.reduce_sum(x, [0, 1]))\n",
    "\n",
    "sess.close()"
   ]
  },
  {
   "cell_type": "code",
   "execution_count": 12,
   "metadata": {
    "ExecuteTime": {
     "end_time": "2019-12-05T01:56:41.034607Z",
     "start_time": "2019-12-05T01:56:41.006137Z"
    }
   },
   "outputs": [
    {
     "name": "stdout",
     "output_type": "stream",
     "text": [
      "6\n",
      "[2 2 2]\n",
      "[3 3]\n",
      "[[3]\n",
      " [3]]\n",
      "6\n"
     ]
    }
   ],
   "source": [
    "\n",
    "\n",
    "# もしも eval()があったら\n",
    "\n",
    "sess = tf.InteractiveSession()\n",
    "\n",
    "x = tf.constant([[1, 1, 1], [1, 1, 1]])\n",
    "print(tf.reduce_sum(x).eval())                    # 6\n",
    "print(tf.reduce_sum(x, 0).eval())                 # [2, 2, 2]\n",
    "print(tf.reduce_sum(x, 1).eval())                 # [3, 3]\n",
    "print(tf.reduce_sum(x, 1, keepdims=True).eval())  # [[3], [3]]\n",
    "print(tf.reduce_sum(x, [0, 1]).eval())            # 6\n",
    "\n",
    "sess.close()"
   ]
  },
  {
   "cell_type": "code",
   "execution_count": null,
   "metadata": {},
   "outputs": [],
   "source": []
  },
  {
   "cell_type": "markdown",
   "metadata": {},
   "source": [
    "## keras.backend.eval()\n",
    "\n",
    "`おまけ`\n",
    "\n",
    "先ほどのtf.InteractiveSession()とeval()の組み合わせの代わりにkeras.backend.eval()でも値が取り出せる。"
   ]
  },
  {
   "cell_type": "code",
   "execution_count": 13,
   "metadata": {
    "ExecuteTime": {
     "end_time": "2019-12-05T01:57:07.923896Z",
     "start_time": "2019-12-05T01:57:07.884033Z"
    },
    "scrolled": false
   },
   "outputs": [
    {
     "name": "stdout",
     "output_type": "stream",
     "text": [
      "6\n",
      "[2 2 2]\n",
      "[3 3]\n",
      "[[3]\n",
      " [3]]\n",
      "6\n"
     ]
    }
   ],
   "source": [
    "\"\"\"\n",
    "from keras import backend as K\n",
    "\"\"\"\n",
    "\n",
    "\n",
    "# tf.InteractiveSession()は不要\n",
    "\n",
    "\n",
    "x = tf.constant([[1, 1, 1], [1, 1, 1]])\n",
    "print(K.eval(tf.reduce_sum(x)))                    # 6\n",
    "print(K.eval(tf.reduce_sum(x, 0)))                 # [2, 2, 2]\n",
    "print(K.eval(tf.reduce_sum(x, 1)))                 # [3, 3]\n",
    "print(K.eval(tf.reduce_sum(x, 1, keepdims=True)))  # [[3], [3]]\n",
    "print(K.eval(tf.reduce_sum(x, [0, 1])))            # 6"
   ]
  },
  {
   "cell_type": "code",
   "execution_count": null,
   "metadata": {},
   "outputs": [],
   "source": []
  },
  {
   "cell_type": "code",
   "execution_count": null,
   "metadata": {},
   "outputs": [],
   "source": []
  }
 ],
 "metadata": {
  "kernelspec": {
   "display_name": "Python 3",
   "language": "python",
   "name": "python3"
  },
  "language_info": {
   "codemirror_mode": {
    "name": "ipython",
    "version": 3
   },
   "file_extension": ".py",
   "mimetype": "text/x-python",
   "name": "python",
   "nbconvert_exporter": "python",
   "pygments_lexer": "ipython3",
   "version": "3.7.2"
  },
  "latex_envs": {
   "LaTeX_envs_menu_present": true,
   "autoclose": false,
   "autocomplete": true,
   "bibliofile": "biblio.bib",
   "cite_by": "apalike",
   "current_citInitial": 1,
   "eqLabelWithNumbers": true,
   "eqNumInitial": 1,
   "hotkeys": {
    "equation": "Ctrl-E",
    "itemize": "Ctrl-I"
   },
   "labels_anchors": false,
   "latex_user_defs": false,
   "report_style_numbering": false,
   "user_envs_cfg": false
  },
  "toc": {
   "base_numbering": 1,
   "nav_menu": {},
   "number_sections": true,
   "sideBar": true,
   "skip_h1_title": false,
   "title_cell": "Table of Contents",
   "title_sidebar": "Contents",
   "toc_cell": false,
   "toc_position": {},
   "toc_section_display": true,
   "toc_window_display": true
  }
 },
 "nbformat": 4,
 "nbformat_minor": 2
}
